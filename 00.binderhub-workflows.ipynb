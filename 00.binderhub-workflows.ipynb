{
 "cells": [
  {
   "cell_type": "markdown",
   "metadata": {
    "slideshow": {
     "slide_type": "slide"
    }
   },
   "source": [
    "# Binderhub Workflow and Tips\n",
    "### Georgios Varnavides, Craig Carter 02/04/21"
   ]
  },
  {
   "cell_type": "markdown",
   "metadata": {
    "slideshow": {
     "slide_type": "slide"
    }
   },
   "source": [
    "# Talk Overview\n",
    "\n",
    "### 1. Sharing fully-interactive Jupyter notebook environments\n",
    "- Binder introduction\n",
    "- Dockerfile to use Python, WolframLanguage, and Julia kernels\n",
    "- Speed up binder launch using github actions\n",
    "- Seperate environment and content repos\n",
    "\n",
    "### 2. Quick overview of the three kernels\n",
    "- Discrete dynamical systems\n",
    "\n",
    "### 3. Cross-languange integration libraries\n",
    "- Wolfram Language's `ExternalEvaluate`\n",
    "- Python's `Wolfram Client Library`"
   ]
  },
  {
   "cell_type": "markdown",
   "metadata": {
    "slideshow": {
     "slide_type": "subslide"
    }
   },
   "source": [
    "## Disclaimer:\n",
    "- I'll assume zero `Docker` experience (which is also where I was at ~1 month ago)\n",
    "- I'm fairly comfortable with the Wolfram Language, but increasingly less so with Python and Julia\n",
    "\n",
    "## Credits:\n",
    "- Huge thanks to Jesse Friedman and Arnoud Buzing at Wolfram Research, for WolframLicensing help\n",
    "- Thanks to the binderhub team for their flexibility with egress ports\n",
    "- Discrete dynamical systems example is adapted from Chris Rackauckas"
   ]
  },
  {
   "cell_type": "markdown",
   "metadata": {
    "slideshow": {
     "slide_type": "slide"
    }
   },
   "source": [
    "![Binder Logo](data:image/png;base64,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)\n",
    "\n",
    "> Binder allows you to create custom computing environments that can be shared and used by many remote users. It is powered by BinderHub, which is an open-source tool that deploys the Binder service in the cloud. One such deployment lives at mybinder.org, and is free to use. \n",
    "\n",
    "- Essentially, `Binder` allows you to containerize a (public) repository of jupyter notebooks which can then be shared as interactive, reproducible environments  \n",
    "[**mybinder.org demo**](https://github.com/binder-examples/demo-julia)"
   ]
  },
  {
   "cell_type": "markdown",
   "metadata": {
    "slideshow": {
     "slide_type": "slide"
    }
   },
   "source": [
    "# What about the Wolfram Engine?\n",
    "\n",
    "- `repo2docker`, the tool used by `BinderHub` to build images on demand, has built-in support for the following kernels:\n",
    "  - Python (`environment.yml`/`requirements.txt`)\n",
    "  - R (`install.R`)\n",
    "  - Julia (`Project.toml`/`Manifest.toml`)\n",
    "- For these languages, installation is easy using the configuration files listed above  \n",
    "- If we want to build more complicated environments, we need to specify our own `Dockerfile`"
   ]
  },
  {
   "cell_type": "markdown",
   "metadata": {
    "slideshow": {
     "slide_type": "subslide"
    }
   },
   "source": [
    "## What is a `Dockerfile`?\n",
    "\n",
    ">Docker is a tool that allows developers, sys-admins etc. to easily deploy their applications in a sandbox (called containers) to run on the host operating system i.e. Linux. The key benefit of Docker is that it allows users to package an application with all of its dependencies into a standardized unit for software development.\n",
    "\n",
    "- Cool, so like virtual machines?\n",
    "\n",
    ">Unlike virtual machines, containers do not have high overhead and hence enable more efficient usage of the underlying system and resources.\n",
    "\n",
    "- `Dockerfile`s are recipes the `Docker` client follows to creat an image\n",
    "  - If you're comfortable with Linux commands, `Dockerfile` commands are _almost identical_"
   ]
  },
  {
   "cell_type": "markdown",
   "metadata": {
    "slideshow": {
     "slide_type": "subslide"
    }
   },
   "source": [
    "#### Here's an example `Dockerfile`:\n",
    "\n",
    "```dockerfile\n",
    "FROM ubuntu\n",
    "\n",
    "RUN apt-get update\n",
    "RUN apt-get install -y python\n",
    "\n",
    "ADD hello.py /home/hello.py\n",
    "ADD hello-alternative.py /home/hello-alternative.py\n",
    "\n",
    "CMD [\"/home/hello.py\"]\n",
    "ENTRYPOINT [\"python\"]\n",
    "```\n",
    "#### Which does the following:\n",
    "1. Starts using the ubuntu(:latest) image as base\n",
    "2. Installs `python` using `apt-get`\n",
    "3. Adds (copies) two python files from the host system to the container\n",
    "4. Specifies a default `command` and `entrypoint` to run when called"
   ]
  },
  {
   "cell_type": "markdown",
   "metadata": {
    "slideshow": {
     "slide_type": "subslide"
    }
   },
   "source": [
    "#### Our python files\n",
    "```python\n",
    "# hello.py\n",
    "print(\"Hello World\")\n",
    "```\n",
    "\n",
    "```python\n",
    "# hello-alternative.py\n",
    "print(\"Alternative Hello\")\n",
    "```"
   ]
  },
  {
   "cell_type": "markdown",
   "metadata": {
    "slideshow": {
     "slide_type": "subslide"
    }
   },
   "source": [
    "#### Building and running\n",
    "- We can build our simple docker image by running\n",
    "\n",
    "```console\n",
    "george@broadway:~$ docker build -t python-image .\n",
    "```\n",
    "\n",
    "- And then run the default command as:\n",
    "\n",
    "```console\n",
    "george@broadway:~$ docker run --name test1 python-image\n",
    "Hello World\n",
    "```\n",
    "- Or overwrite and execute a different command inside the container:\n",
    "\n",
    "```console\n",
    "george@broadway:~$ docker run --name test2 python-image /home/hello-alternative.py\n",
    "Alternative Hello\n",
    "```"
   ]
  },
  {
   "cell_type": "markdown",
   "metadata": {
    "slideshow": {
     "slide_type": "slide"
    }
   },
   "source": [
    "## Back to the Wolfram Engine\n",
    "- So first, `Binder` works with public repositories and is accessible by anyone\n",
    "  - This is great, but it clearly poses challenges for licensed software like the Wolfram Engine\n",
    "  \n",
    "  \n",
    "\n",
    "- Recently, Wolfram Research released the [Free Wolfram Engine for Developers](https://www.wolfram.com/engine/)\n",
    "  - This is still however a licensed piece of software, with the following licensing options:\n",
    "    - Node-Locked Licensing; this won't work for us\n",
    "    - On-Demand Licensing:\n",
    "      - This new functionality (12.2), allows one to re-use a form of license key called an `entitlement-id`\n",
    "      - and get charged `Service Credits` (for our purposes, this turns out to be peanuts)\n",
    "     "
   ]
  },
  {
   "cell_type": "markdown",
   "metadata": {
    "slideshow": {
     "slide_type": "subslide"
    }
   },
   "source": [
    "## Binder `Dockerfile`  \n",
    "- We'll use this `Dockerfile` to set-up our binder with Python, Julia, and the Wolfram Engine:\n",
    "\n",
    "```dockerfile\n",
    "# Dockerfile based on:\n",
    "# https://github.com/jupyterhub/repo2docker/tree/2f1914d8d66395e151c82453290f51d8c0894bf4\n",
    "FROM ubuntu:18.04\n",
    "\n",
    "# ---- SETUP ----\n",
    "ENV DEBIAN_FRONTEND=noninteractive\n",
    "\n",
    "# Set up locales properly\n",
    "# Set up certificates etc properly\n",
    "RUN apt-get -qq update && \\\n",
    "    apt-get -qq install --yes --no-install-recommends locales \\\n",
    "    wget gnupg2 ca-certificates > /dev/null && \\\n",
    "    update-ca-certificates && \\\n",
    "    apt-get -qq purge && \\\n",
    "    apt-get -qq clean && \\\n",
    "    rm -rf /var/lib/apt/lists/*\n",
    "\n",
    "RUN echo \"en_US.UTF-8 UTF-8\" > /etc/locale.gen && \\\n",
    "    locale-gen\n",
    "\n",
    "ENV LC_ALL en_US.UTF-8\n",
    "ENV LANG en_US.UTF-8\n",
    "ENV LANGUAGE en_US.UTF-8\n",
    "\n",
    "# Use bash as default shell, rather than sh\n",
    "ENV SHELL /bin/bash\n",
    "\n",
    "# Set up user\n",
    "ARG NB_USER\n",
    "ARG NB_UID\n",
    "ENV USER ${NB_USER}\n",
    "ENV HOME /home/${NB_USER}\n",
    "RUN groupadd \\\n",
    "        --gid ${NB_UID} \\\n",
    "        ${NB_USER} && \\\n",
    "    useradd \\\n",
    "        --comment \"Default user\" \\\n",
    "        --create-home \\\n",
    "        --gid ${NB_UID} \\\n",
    "        --no-log-init \\\n",
    "        --shell /bin/bash \\\n",
    "        --uid ${NB_UID} \\\n",
    "        ${NB_USER}\n",
    "\n",
    "RUN wget --quiet -O - https://deb.nodesource.com/gpgkey/nodesource.gpg.key |  apt-key add - && \\\n",
    "    DISTRO=\"bionic\" && \\\n",
    "    echo \"deb https://deb.nodesource.com/node_14.x $DISTRO main\" >> /etc/apt/sources.list.d/nodesource.list && \\\n",
    "    echo \"deb-src https://deb.nodesource.com/node_14.x $DISTRO main\" >> /etc/apt/sources.list.d/nodesource.list\n",
    "\n",
    "# install some base packages\n",
    "RUN apt-get -qq update && \\\n",
    "    apt-get -qq install --yes --no-install-recommends \\\n",
    "    less unzip curl git build-essential \\\n",
    "    # WolframEngine dependencies\n",
    "    xz-utils avahi-daemon netbase libgl1-mesa-glx libfontconfig1 libasound2 && \\\n",
    "    apt-get -qq purge && \\\n",
    "    apt-get -qq clean && \\\n",
    "    rm -rf /var/lib/apt/lists/*\n",
    "\n",
    "EXPOSE 8888\n",
    "\n",
    "# Environment variables required for build\n",
    "ENV APP_BASE /srv\n",
    "ENV CONDA_DIR ${APP_BASE}/conda\n",
    "ENV WOLFRAM_DIR ${APP_BASE}/wolfram\n",
    "\n",
    "# On-demand licensing env variables\n",
    "ENV WOLFRAMSCRIPT_ENTITLEMENTID O-WSDS-9826-V6NRZS7WMDZMK \n",
    "ENV WOLFRAMINIT '-pwfile '\\!cloudlm.wolfram.com' -entitlement O-WSDS-9826-V6NRZS7WMDZMK'\n",
    "\n",
    "ENV NB_PYTHON_PREFIX ${CONDA_DIR}/envs/notebook\n",
    "ENV KERNEL_PYTHON_PREFIX ${NB_PYTHON_PREFIX}\n",
    "ENV JULIA_PATH ${APP_BASE}/julia\n",
    "ENV JULIA_DEPOT_PATH ${JULIA_PATH}/pkg\n",
    "\n",
    "ENV PATH ${NB_PYTHON_PREFIX}/bin:${CONDA_DIR}/bin:${JULIA_PATH}/bin:${PATH}\n",
    "\n",
    "# Copy build scripts\n",
    "COPY --chown=1000:1000 build-scripts/activate-conda.sh /etc/profile.d/activate-conda.sh\n",
    "COPY --chown=1000:1000 build-scripts/environment.py-3.8.yml /tmp/environment.yml\n",
    "COPY --chown=1000:1000 build-scripts/install-miniforge.bash /tmp/install-miniforge.bash\n",
    "\n",
    "# ---- JUPYTER INSTALLATION: MAMBA ----\n",
    "RUN TIMEFORMAT='time: %3R' && \\\n",
    "    chmod +x /tmp/install-miniforge.bash && \\\n",
    "    bash -c 'time /tmp/install-miniforge.bash' && \\\n",
    "    rm /tmp/install-miniforge.bash /tmp/environment.yml\n",
    "\n",
    "ARG REPO_DIR=${HOME}\n",
    "ENV REPO_DIR ${REPO_DIR}\n",
    "WORKDIR ${REPO_DIR}\n",
    "RUN chown ${NB_USER}:${NB_USER} ${REPO_DIR}\n",
    "\n",
    "ENV PATH ${HOME}/.local/bin:${REPO_DIR}/.local/bin:${PATH}\n",
    "ENV CONDA_DEFAULT_ENV ${KERNEL_PYTHON_PREFIX}\n",
    "\n",
    "COPY --chown=1000:1000 ./environment.yml ${REPO_DIR}/environment.yml\n",
    "\n",
    "USER ${NB_USER}\n",
    "RUN TIMEFORMAT='time: %3R' \\\n",
    "    bash -c 'time mamba env update -p ${NB_PYTHON_PREFIX} -f \"environment.yml\" && \\\n",
    "    time mamba clean --all -f -y && \\\n",
    "    mamba list -p ${NB_PYTHON_PREFIX} \\\n",
    "   '\n",
    "\n",
    "# ---- JULIA ----\n",
    "USER root\n",
    "ARG julia_version=\"1.6.0-beta1\"\n",
    "ENV JULIA_VERSION=\"${julia_version}\"\n",
    "RUN mkdir -p ${JULIA_PATH} && \\\n",
    "curl -sSL \"https://julialang-s3.julialang.org/bin/linux/x64/${JULIA_VERSION%[.]*}/julia-${JULIA_VERSION}-linux-x86_64.tar.gz\" | tar -xz -C ${JULIA_PATH} --strip-components 1\n",
    "\n",
    "# Copy Project.toml and Manifest.toml\n",
    "COPY --chown=1000:1000 ./*toml ${REPO_DIR}\n",
    "RUN mkdir -p ${JULIA_DEPOT_PATH} && \\\n",
    "    chown ${NB_USER}:${NB_USER} ${JULIA_DEPOT_PATH} && \\\n",
    "    chown -R ${NB_USER}:${NB_USER} ${REPO_DIR}\n",
    "\n",
    "# Note JSON, ZMQ, LinearAlgebra required for WL ExternalEvaluate\n",
    "USER ${NB_USER}\n",
    "RUN JULIA_PROJECT=\"\" julia -e \"using Pkg; Pkg.add([\\\"IJulia\\\",\\\"JSON\\\",\\\"ZMQ\\\",\\\"LinearAlgebra\\\"]); using IJulia; installkernel(\\\"Julia\\\", \\\"--project=${REPO_DIR}\\\");\" && \\\n",
    "julia --project=${REPO_DIR} -e 'using Pkg; Pkg.instantiate(); pkg\"precompile\"'\n",
    "\n",
    "# ---- WOLFRAM ENGINE ----\n",
    "# Currently download url points to 12.2.0 - consider switching back to docker images for reproducibility\n",
    "# https://hub.docker.com/r/wolframresearch/wolframengine\n",
    "USER root\n",
    "RUN mkdir -p ${WOLFRAM_DIR} && \\\n",
    "    chown -R ${NB_USER}:${NB_USER} ${WOLFRAM_DIR} && \\\n",
    "    wget https://account.wolfram.com/download/public/wolfram-engine/desktop/LINUX \\\n",
    "    -O /tmp/Install-WolframEngine.sh && \\\n",
    "    chmod +x /tmp/Install-WolframEngine.sh && \\\n",
    "    /tmp/Install-WolframEngine.sh -- -auto -verbose && \\\n",
    "    rm -f /tmp/Install-WolframEngine.sh\n",
    "\n",
    "# add wolframengine jupyter kernel\n",
    "USER ${NB_USER}\n",
    "RUN cd ${WOLFRAM_DIR} && \\\n",
    "    git clone https://github.com/okofish/WolframLanguageForJupyter.git && \\\n",
    "    cd WolframLanguageForJupyter && \\\n",
    "    git checkout 1429f1c86b60ba79794eace378eae4f5941fc9cf -b feature/OnDemandLicensing && \\\n",
    "    ./configure-jupyter.wls add && \\\n",
    "    jupyter kernelspec list\n",
    "\n",
    "# ---- WRAP UP ----\n",
    "# Execute postBuild\n",
    "COPY --chown=1000:1000 ./postBuild ${REPO_DIR}/postBuild\n",
    "RUN chmod +x postBuild\n",
    "RUN ./postBuild\n",
    "\n",
    "# Add entrypoint\n",
    "COPY --chown=1000:1000 build-scripts/repo2docker-entrypoint /usr/local/bin/repo2docker-entrypoint\n",
    "RUN chmod +x /usr/local/bin/repo2docker-entrypoint\n",
    "ENTRYPOINT [\"/usr/local/bin/repo2docker-entrypoint\"]\n",
    "\n",
    "# Specify the default command to run\n",
    "CMD [\"jupyter\", \"notebook\", \"--ip\", \"0.0.0.0\"]\n",
    "```\n",
    "\n",
    "- Which can be found in [this repository](https://github.com/gvarnavi/binder-env_py-3.8_jl-1.6_wl-12.2)  \n",
    " **Terminal demo**"
   ]
  },
  {
   "cell_type": "markdown",
   "metadata": {
    "slideshow": {
     "slide_type": "slide"
    }
   },
   "source": [
    "## Speed up `Binder` build\n",
    "\n",
    "- Simply pointing mybinder.org to a repository with this `Dockerfile` will work.\n",
    "- What will happen is that the first time someone navigates to the binder link:\n",
    "  - If the image has not yet been built on the server, `repo2docker` will first build it\n",
    "    - and then launch a binder instance\n",
    "  - If the image has been built, it will simply launch an instance\n",
    "  \n",
    "  \n",
    "- This has two problems:\n",
    "  1. Everytime we make a new commit, and someone visits the link, Binder will try and re-build the image (albeit using caching)\n",
    "  2. A lot of the time building is spent installing some of our dependencies (julia and WL in particular take a while)\n",
    "\n",
    "\n",
    "- The following is a clever hack to automate and speed up the process  \n",
    "- It essentially makes use of the fact that we can simply `pull` a pre-built image in a `Dockerfile` using the `FROM` command"
   ]
  },
  {
   "cell_type": "markdown",
   "metadata": {
    "slideshow": {
     "slide_type": "subslide"
    }
   },
   "source": [
    "### Github Actions\n",
    "- We will use a worklow or Github action to achieve this\n",
    "\n",
    "```yaml\n",
    "name: dockerhub-mybinder deployment\n",
    " \n",
    "on: push\n",
    "\n",
    "jobs:\n",
    "  binder:\n",
    "    runs-on: ubuntu-latest\n",
    "    steps:\n",
    "    - name: Checkout Code\n",
    "      uses: actions/checkout@v2\n",
    "      with:\n",
    "        ref: ${{ github.event.pull_request.head.sha }}\n",
    "\n",
    "    - name: update jupyter dependencies with repo2docker\n",
    "      uses: jupyterhub/repo2docker-action@master\n",
    "      with:\n",
    "        DOCKER_USERNAME: ${{ secrets.DOCKER_USERNAME }}\n",
    "        DOCKER_PASSWORD: ${{ secrets.DOCKER_PASSWORD }}\n",
    "        BINDER_CACHE: true\n",
    "```\n",
    "\n",
    "- We need to do three things to enable this:  \n",
    "  1. Set up a [Dockerhub account](https://hub.docker.com/)  \n",
    "  2. Add the following two Repository secrets to our repo (repo>settings>secrets>actions)  \n",
    "    - `DOCKER_PASSWORD` (you probably want to use an action-token instead)  \n",
    "    - `DOCKER_USERNAME`  \n",
    "  3. Commit the above yaml file as a new Workflow (repo>actions>new)  \n",
    "\n",
    "\n",
    "**Github action demo**"
   ]
  },
  {
   "cell_type": "markdown",
   "metadata": {
    "slideshow": {
     "slide_type": "slide"
    }
   },
   "source": [
    "# Separating Content and Environment Repositories\n",
    "\n",
    "- Notice this will still start a new build (albeit asynchronously) for every new (pushed) commit  \n",
    "- This could be a problem if you're designing a workshop, where you're making many (last minute) edits to the content notebooks, while keeping the environment intact  \n",
    "- This can be conveniently solved using `nbgitpuller`  \n",
    "\n",
    "\n",
    "- Essentially, we'll do the following:\n",
    "  1. Create one binder [environment repository](https://github.com/gvarnavi/binder-env_py-3.8_jl-1.6_wl-12.2) (with only our `Dockerfile` and configuration files)\n",
    "    - Note we need to include `nbgitpuller` in our python dependencies\n",
    "  2. Create a separate [content repository](https://github.com/gvarnavi/python-julia-wolfram-workflow-nbs) (with all our notebooks)\n",
    "  3. Build and launch Binder on the environment repository\n",
    "    - Once an instance is launched, `git clone` our content repository\n",
    "    \n",
    "    \n",
    "- This can all be automated using the `nbtgitpuller` [link generator](https://jupyterhub.github.io/nbgitpuller/link.html)\n",
    "  - As a fun aside, they have hilarious loading messages  \n",
    "\n",
    "\n",
    "\n",
    "**nbgitpuller demo**"
   ]
  },
  {
   "cell_type": "markdown",
   "metadata": {
    "slideshow": {
     "slide_type": "slide"
    }
   },
   "source": [
    "# Let's (finally) see our Binder in action!\n",
    "\n",
    "\n",
    "\n",
    "[![Binder](https://mybinder.org/badge_logo.svg)](https://mybinder.org/v2/gh/gvarnavi/binder-env_py-3.8_jl-1.6_wl-12.2/main?urlpath=git-pull%3Frepo%3Dhttps%253A%252F%252Fgithub.com%252Fgvarnavi%252Fpython-julia-wolfram-workflow-nbs%26urlpath%3Dtree%252Fpython-julia-wolfram-workflow-nbs%252F%26branch%3Dmain)"
   ]
  }
 ],
 "metadata": {
  "celltoolbar": "Slideshow",
  "kernelspec": {
   "display_name": "Python 3",
   "language": "python",
   "name": "python3"
  },
  "language_info": {
   "codemirror_mode": {
    "name": "ipython",
    "version": 3
   },
   "file_extension": ".py",
   "mimetype": "text/x-python",
   "name": "python",
   "nbconvert_exporter": "python",
   "pygments_lexer": "ipython3",
   "version": "3.8.5"
  }
 },
 "nbformat": 4,
 "nbformat_minor": 4
}
