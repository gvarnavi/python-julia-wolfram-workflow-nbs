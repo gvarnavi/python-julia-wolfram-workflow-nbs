{
 "cells": [
  {
   "cell_type": "markdown",
   "metadata": {},
   "source": [
    "# Discrete Dynamical Systems with Julia!\n",
    "\n",
    "Dynamical systems are rules describing the evolution of some variable $\\vec{u}$ in time, according to some equations of motion given by a function $\\vec{f}$.  \n",
    "Here, we'll investigate _discrete dynamical systems_, often called _maps_, whereby time is discrete (in 'time-steps') and the equations of motion take the general form:\n",
    "\n",
    "$$\n",
    "\\vec{u}_{n+1} = \\vec{f}(\\vec{u}_n,p,n)\n",
    "$$\n",
    "\n",
    "We'll start by using a performant julia library to achieve this, and then try to match that behavior ourselves using minimal julia code (adapted from Chris Rackauckas's [Parallel Computing and Scientific Machine Learning](https://github.com/mitmath/18337) course notes)."
   ]
  },
  {
   "cell_type": "markdown",
   "metadata": {},
   "source": [
    "## DynamicalSystems.jl\n",
    "\n",
    "[DynamicalSystems.jl](https://juliadynamics.github.io/DynamicalSystems.jl/latest/) is a performant Julia software library for dynamical systems, deterministic chaos and nonlinear timeseries analysis.  \n",
    "\n",
    "We start by importing the necessary packages"
   ]
  },
  {
   "cell_type": "code",
   "execution_count": null,
   "metadata": {},
   "outputs": [],
   "source": [
    "using DynamicalSystems, Plots, StaticArrays, BenchmarkTools"
   ]
  },
  {
   "cell_type": "markdown",
   "metadata": {},
   "source": [
    "### De Jong attractor\n",
    "Let's have a look at the following attractor:\n",
    "$$\n",
    "\\begin{align}\n",
    "x_{n+1} &= sin(a y_n) - cos(b x_n) \\\\\n",
    "y_{n+1} &= sin(c x_n) - cos(d y_n)\n",
    "\\end{align}\n",
    "$$\n",
    "\n",
    "we define a function to perform this map:"
   ]
  },
  {
   "cell_type": "code",
   "execution_count": null,
   "metadata": {},
   "outputs": [],
   "source": [
    "function dejong_eom(x,p,t)\n",
    "    a,b,c,d = p\n",
    "    dx = sin(a*x[2]) - cos(b*x[1])\n",
    "    dy = sin(c*x[1]) - cos(d*x[2])\n",
    "    @SVector [dx, dy]\n",
    "end"
   ]
  },
  {
   "cell_type": "markdown",
   "metadata": {},
   "source": [
    "Next, we need an initial state to start our iteration:"
   ]
  },
  {
   "cell_type": "code",
   "execution_count": null,
   "metadata": {},
   "outputs": [],
   "source": [
    "initial_state = @SVector([1.0 ,1.0]);"
   ]
  },
  {
   "cell_type": "markdown",
   "metadata": {},
   "source": [
    "and finally, our parameters, $p$:"
   ]
  },
  {
   "cell_type": "code",
   "execution_count": null,
   "metadata": {},
   "outputs": [],
   "source": [
    "p = [-2.0,-2.0,-1.2,2.0];"
   ]
  },
  {
   "cell_type": "markdown",
   "metadata": {},
   "source": [
    "now, we can define our `DynamicalSystem`:"
   ]
  },
  {
   "cell_type": "code",
   "execution_count": null,
   "metadata": {},
   "outputs": [],
   "source": [
    "dejong = DiscreteDynamicalSystem(dejong_eom,initial_state,p)"
   ]
  },
  {
   "cell_type": "markdown",
   "metadata": {},
   "source": [
    "obtaining a trajectory for some 100000 points is then straightforward:"
   ]
  },
  {
   "cell_type": "code",
   "execution_count": null,
   "metadata": {},
   "outputs": [],
   "source": [
    "trajectory_dejong = trajectory(dejong,100000)"
   ]
  },
  {
   "cell_type": "markdown",
   "metadata": {},
   "source": [
    "We can plot the trajectory to visualize our attractor:"
   ]
  },
  {
   "cell_type": "code",
   "execution_count": null,
   "metadata": {},
   "outputs": [],
   "source": [
    "scatter(trajectory_dejong[:,1], trajectory_dejong[:,2], \n",
    "    markersize=0.1, markeralpha = 0.3, markercolor=\"black\",\n",
    "    leg=false, title=\"De Jong attractor\", \n",
    "    html_output_format=:png, size=(1200,800))"
   ]
  },
  {
   "cell_type": "markdown",
   "metadata": {},
   "source": [
    "#### Performance\n",
    "Let's evaluate the performance of the above code. We'll use the `BenchmarkTools` package:"
   ]
  },
  {
   "cell_type": "code",
   "execution_count": null,
   "metadata": {},
   "outputs": [],
   "source": [
    "@btime trajectory(dejong,10000);"
   ]
  },
  {
   "cell_type": "markdown",
   "metadata": {},
   "source": [
    "This is indeed quite fast, let's see if we can match this using our own implementation."
   ]
  },
  {
   "cell_type": "markdown",
   "metadata": {},
   "source": [
    "## Minimal Implementation of Discrete Dynamical Systems\n",
    "We'll follow the same paradigm as `DynamicalSystems.jl` to code this efficiently. Namely, we'll define a _higher order function_ which will accept our equations of motion as an argument and type-specialize on that function during compilation"
   ]
  },
  {
   "cell_type": "code",
   "execution_count": null,
   "metadata": {},
   "outputs": [],
   "source": [
    "# Higher order function\n",
    "function solve_discrete_map(f,u0,p,n)\n",
    "    # Set initial state\n",
    "    u = u0\n",
    "    for i in 1:n-1\n",
    "        # Iteratively apply map n times\n",
    "        u = f(u,p)\n",
    "    end\n",
    "    # Return final result\n",
    "    u\n",
    "end"
   ]
  },
  {
   "cell_type": "code",
   "execution_count": null,
   "metadata": {},
   "outputs": [],
   "source": [
    "function dejong_eom_naive(u,p)\n",
    "    a,b,c,d = p\n",
    "    du1 = sin(a*u[2]) - cos(b*u[1])\n",
    "    du2 = sin(c*u[1]) - cos(d*u[2])\n",
    "    [du1, du2]\n",
    "end\n",
    "\n",
    "initial_state = [1.0, 1.0];\n",
    "p = (-2.0,-2.0,-1.2,2.0);\n",
    "\n",
    "@btime solve_discrete_map(dejong_eom_naive, initial_state, p , 10000)"
   ]
  },
  {
   "cell_type": "markdown",
   "metadata": {},
   "source": [
    "This is already quite fast!  \n",
    "But, we're making a lot of costly allocations. Also, note this only returns the final point - not the whole trajectory.  \n",
    "Let's use statically-sized arrays to save the entire trajectory:"
   ]
  },
  {
   "cell_type": "code",
   "execution_count": null,
   "metadata": {},
   "outputs": [],
   "source": [
    "function solve_discrete_map_save(f,u0,p,n)\n",
    "    # Set statically-sized output array\n",
    "    u = Vector{typeof(u0)}(undef,n)\n",
    "    u[1] = u0\n",
    "    for i in 1:n-1\n",
    "        u[i+1] = f(u[i],p)\n",
    "    end\n",
    "    u\n",
    "end\n",
    "\n",
    "@btime solve_discrete_map_save(dejong_eom_naive, initial_state, p , 10000)"
   ]
  },
  {
   "cell_type": "markdown",
   "metadata": {},
   "source": [
    "We now obtain the full trajectory! It seems natural to use matrices instead, since our data is a full 2D array."
   ]
  },
  {
   "cell_type": "code",
   "execution_count": null,
   "metadata": {},
   "outputs": [],
   "source": [
    "function solve_discrete_map_save_matrix(f,u0,p,n)\n",
    "    # Set statically-sized output array\n",
    "    u = Matrix{eltype(u0)}(undef,length(u0),n)\n",
    "    u[:,1] = u0\n",
    "    for i in 1:n-1\n",
    "        u[:,i+1] = f(u[:,i],p)\n",
    "    end\n",
    "    u\n",
    "end\n",
    "\n",
    "@btime solve_discrete_map_save_matrix(dejong_eom_naive, initial_state, p , 10000)"
   ]
  },
  {
   "cell_type": "markdown",
   "metadata": {},
   "source": [
    "What went wrong? this is almost twice as slow with twice as many allocations!  \n",
    "The problem is that slicing automatically makes a copy of the array in julia. To remedy this, we can use the `@view` macro."
   ]
  },
  {
   "cell_type": "code",
   "execution_count": null,
   "metadata": {},
   "outputs": [],
   "source": [
    "function solve_discrete_map_save_matrix(f,u0,p,n)\n",
    "    # Set statically-sized output array\n",
    "    u = Matrix{eltype(u0)}(undef,length(u0),n)\n",
    "    u[:,1] = u0\n",
    "    for i in 1:n-1\n",
    "        u[:,i+1] = f(@view(u[:,i]),p)\n",
    "    end\n",
    "    u\n",
    "end\n",
    "\n",
    "@btime solve_discrete_map_save_matrix(dejong_eom_naive, initial_state, p , 10000)"
   ]
  },
  {
   "cell_type": "markdown",
   "metadata": {},
   "source": [
    "Notice we used `StaticArrays` in the beginning with `DynamicalSystems`. Indeed, we can leverage the same functionality since our map is only two-dimensional:"
   ]
  },
  {
   "cell_type": "code",
   "execution_count": null,
   "metadata": {},
   "outputs": [],
   "source": [
    "function dejong_eom_static(u,p)\n",
    "    a,b,c,d = p\n",
    "    du1 = sin(a*u[2]) - cos(b*u[1])\n",
    "    du2 = sin(c*u[1]) - cos(d*u[2])\n",
    "    @SVector [du1, du2]\n",
    "end\n",
    "\n",
    "@btime solve_discrete_map_save(dejong_eom_static,@SVector[1.0,1.0], p , 10000);"
   ]
  },
  {
   "cell_type": "markdown",
   "metadata": {},
   "source": [
    "This is in-fact faster than the `DynamicalSystems` evaluation!  \n",
    "Going further, since we know we're always accessing a 2D array, we can turn off bounds checks."
   ]
  },
  {
   "cell_type": "code",
   "execution_count": null,
   "metadata": {},
   "outputs": [],
   "source": [
    "function dejong_eom_fast(u,p)\n",
    "    a,b,c,d = p\n",
    "    @inbounds begin\n",
    "    du1 = sin(a*u[2]) - cos(b*u[1])\n",
    "    du2 = sin(c*u[1]) - cos(d*u[2])\n",
    "    end\n",
    "    @SVector [du1, du2]\n",
    "end\n",
    "\n",
    "function solve_discrete_map_fast(f,u0,p,n)\n",
    "    u = Vector{typeof(u0)}(undef,n)\n",
    "    @inbounds u[1] = u0\n",
    "    @inbounds for i in 1:n-1\n",
    "        u[i+1] = f(u[i],p)\n",
    "    end\n",
    "    u\n",
    "end\n",
    "\n",
    "@btime solve_discrete_map_fast(dejong_eom_fast,@SVector[1.0,1.0], p , 10000);"
   ]
  },
  {
   "cell_type": "markdown",
   "metadata": {},
   "source": [
    "Finally, we can eliminate all allocations by using an in-place function:"
   ]
  },
  {
   "cell_type": "code",
   "execution_count": null,
   "metadata": {},
   "outputs": [],
   "source": [
    "function solve_discrete_map_fast!(u,f,u0,p,n)\n",
    "    @inbounds u[1] = u0\n",
    "    @inbounds for i in 1:length(u)-1\n",
    "        u[i+1] = f(u[i],p)\n",
    "    end\n",
    "    u\n",
    "end\n",
    "\n",
    "u = Vector{typeof(@SVector[1.0,1.0])}(undef,10000)\n",
    "@btime solve_discrete_map_fast!(u,dejong_eom_fast,@SVector[1.0,1.0], p , 10000);"
   ]
  },
  {
   "cell_type": "markdown",
   "metadata": {},
   "source": [
    "### Binning along the way\n",
    "Notice we've made the iteration loop very fast, but plotting all these points will still be slow. Instead, we can count the number of hits, binning along the way.  \n",
    "First, let's write a mutating version of our attractor:"
   ]
  },
  {
   "cell_type": "code",
   "execution_count": null,
   "metadata": {},
   "outputs": [],
   "source": [
    "function dejong_eom_fast_ip(du,u,p)\n",
    "    a,b,c,d = p\n",
    "    @inbounds begin\n",
    "    du[1] = sin(a*u[2]) - cos(b*u[1])\n",
    "    du[2] = sin(c*u[1]) - cos(d*u[2])\n",
    "    end\n",
    "end\n",
    "\n",
    "function solve_discrete_map_mutate(f,u0,p,n)\n",
    "    du = similar(u0)\n",
    "    u  = copy(u0)\n",
    "    for i in 1:n-1\n",
    "        f(du,u,p)\n",
    "        u,du = du,u\n",
    "    end\n",
    "    u\n",
    "end\n",
    "\n",
    "@btime solve_discrete_map_mutate(dejong_eom_fast_ip,[1.0,1.0], p , 10000)"
   ]
  },
  {
   "cell_type": "markdown",
   "metadata": {},
   "source": [
    "Finally, let's add in-place binning logic:"
   ]
  },
  {
   "cell_type": "code",
   "execution_count": null,
   "metadata": {},
   "outputs": [],
   "source": [
    "function solve_discrete_map_mutate!(bins,f,u0,p,n,op)\n",
    "    \n",
    "    xmin,xmax,ymin,ymax,delta = op\n",
    "    dimx, dimy = size(bins)\n",
    "    \n",
    "    du = similar(u0)\n",
    "    u  = copy(u0)\n",
    "    \n",
    "    @inbounds for i in 1:n-1\n",
    "        f(du,u,p)\n",
    "        u,du = du,u\n",
    "        \n",
    "        tx = floor(Int,(u[1]-xmin)/delta) +1\n",
    "        ty = floor(Int,(u[2]-ymin)/delta) +1\n",
    "        if tx >= 1 && tx <= dimx && ty >= 1 && ty <= dimy\n",
    "            bins[tx,ty] +=1\n",
    "        end\n",
    "        \n",
    "    end\n",
    "end"
   ]
  },
  {
   "cell_type": "code",
   "execution_count": null,
   "metadata": {},
   "outputs": [],
   "source": [
    "xmin,xmax,ymin,ymax,delta = (-2.5,2.5,-2.5,2.5,0.005)\n",
    "dimx = floor(Int,(xmax -xmin)/delta) +1\n",
    "dimy = floor(Int,(ymax -ymin)/delta) +1\n",
    "bins = zeros(Int,dimx,dimy);\n",
    "\n",
    "@btime solve_discrete_map_mutate!(bins,dejong_eom_fast_ip,[1.0,1.0], p , 10000,(xmin,xmax,ymin,ymax,delta))"
   ]
  },
  {
   "cell_type": "code",
   "execution_count": null,
   "metadata": {},
   "outputs": [],
   "source": [
    "bins = zeros(Int,dimx,dimy);\n",
    "@btime solve_discrete_map_mutate!(bins,dejong_eom_fast_ip,[1.0,1.0], p , 10000000,(xmin,xmax,ymin,ymax,delta))"
   ]
  },
  {
   "cell_type": "code",
   "execution_count": null,
   "metadata": {},
   "outputs": [],
   "source": [
    "heatmap(log.(bins.+1))"
   ]
  },
  {
   "cell_type": "code",
   "execution_count": null,
   "metadata": {},
   "outputs": [],
   "source": []
  }
 ],
 "metadata": {
  "kernelspec": {
   "display_name": "Julia 1.6.0-beta1",
   "language": "julia",
   "name": "julia-1.6"
  },
  "language_info": {
   "file_extension": ".jl",
   "mimetype": "application/julia",
   "name": "julia",
   "version": "1.6.0"
  }
 },
 "nbformat": 4,
 "nbformat_minor": 4
}
