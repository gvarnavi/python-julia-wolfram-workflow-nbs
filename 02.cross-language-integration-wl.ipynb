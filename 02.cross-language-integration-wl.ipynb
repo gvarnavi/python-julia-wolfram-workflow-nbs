{
 "cells": [
  {
   "cell_type": "markdown",
   "metadata": {},
   "source": [
    "# Cross-Language Integration\n",
    "The Wolfram Language has built-in support for various `external evaluators`, as long as they have ZMQ and JSON packages installed.  \n",
    "We'll look into making python and julia external calls"
   ]
  },
  {
   "cell_type": "markdown",
   "metadata": {},
   "source": [
    "## Julia Language\n",
    "First, we check whether or not the Wolfram Language 'knows' of an existing julia binary."
   ]
  },
  {
   "cell_type": "code",
   "execution_count": null,
   "metadata": {},
   "outputs": [],
   "source": [
    "FindExternalEvaluators[\"Julia\"]"
   ]
  },
  {
   "cell_type": "markdown",
   "metadata": {},
   "source": [
    "<div class=\"alert alert-block alert-warning\">\n",
    "<b>Note:</b>\n",
    "If you're running this on the binder, the above should return the following target: `/srv/julia/bin/julia`. If you're running this locally and the above returns an empty `Dataset`, then we must instruct the Wolfram Language where to look for a binary. We can do this by searching and registering our executable, e.g. on Unix OS by running `which julia` on the command line and then running the following cell:\n",
    "</div>"
   ]
  },
  {
   "cell_type": "code",
   "execution_count": null,
   "metadata": {},
   "outputs": [],
   "source": [
    "(*\n",
    "RegisterExternalEvaluator[\"Julia\", \"/executable/result/from/which/julia\"]\n",
    "*)"
   ]
  },
  {
   "cell_type": "markdown",
   "metadata": {},
   "source": [
    "### Single Commands\n",
    "We can use `ExternalEvaluate` to evaluate commands in the registered evaluator and return the result as a Wolfram Language expression. For example, Julia dictionaries get returned as an `Association`"
   ]
  },
  {
   "cell_type": "code",
   "execution_count": null,
   "metadata": {},
   "outputs": [],
   "source": [
    "ExternalEvaluate[\"Julia\",\"Dict(\\\"one\\\" => 1, \\\"two\\\" => 2, \\\"three\\\" => 3)\"]"
   ]
  },
  {
   "cell_type": "markdown",
   "metadata": {},
   "source": [
    "<div class=\"alert alert-block alert-warning\">\n",
    "<b>Note:</b>\n",
    "If you're running this locally and the above returns an error, you probably need to add the following packages, by running the following on the julia REPL:\n",
    "</div>\n",
    "\n",
    "```julia\n",
    "using Pkg\n",
    "Pkg.add(\"ZMQ\")\n",
    "Pkg.add(\"JSON\")\n",
    "Pkg.add(\"LinearAlgebra\")\n",
    "```"
   ]
  },
  {
   "cell_type": "markdown",
   "metadata": {},
   "source": [
    "We can pass in-line template arguments using the following syntax:"
   ]
  },
  {
   "cell_type": "code",
   "execution_count": null,
   "metadata": {},
   "outputs": [],
   "source": [
    "var=1;\n",
    "ExternalEvaluate[\"Julia\",\"Dict(\\\"one\\\" => <*var*>, \\\"two\\\" => 2, \\\"three\\\" => 3)\"]"
   ]
  },
  {
   "cell_type": "markdown",
   "metadata": {},
   "source": [
    "We can run some code before running the command, e.g. import some packages:"
   ]
  },
  {
   "cell_type": "code",
   "execution_count": null,
   "metadata": {},
   "outputs": [],
   "source": [
    "ExternalEvaluate[{\"Julia\", \"Prolog\" -> \"using LinearAlgebra\"},\n",
    " \"A = [1 1 1 1; 2 2 2 2; 3 3 3 3; 4 4 4 4];\n",
    "  Bidiagonal(A, :U)\"]"
   ]
  },
  {
   "cell_type": "markdown",
   "metadata": {},
   "source": [
    "### Interactive usage\n",
    "We can spin up a persistent session with `StartExternalSession` and exchange data b/w the two processes:"
   ]
  },
  {
   "cell_type": "code",
   "execution_count": null,
   "metadata": {},
   "outputs": [],
   "source": [
    "juliaSession = StartExternalSession[\"Julia\"]"
   ]
  },
  {
   "cell_type": "code",
   "execution_count": null,
   "metadata": {},
   "outputs": [],
   "source": [
    "juliaAddArguments=ExternalEvaluate[juliaSession,\"\n",
    "function add_arguments(x,y)\n",
    "  x + y\n",
    " end\"];\n",
    " ExternalEvaluate[juliaSession,\"add_arguments(2,2)\"]\n",
    " juliaAddArguments[3,4]"
   ]
  },
  {
   "cell_type": "markdown",
   "metadata": {},
   "source": [
    "We can then call julia from within WolframLanguage functions:"
   ]
  },
  {
   "cell_type": "code",
   "execution_count": null,
   "metadata": {},
   "outputs": [],
   "source": [
    "juliaCubicRoot[x_]:= ExternalEvaluate[juliaSession, StringTemplate[\"cbrt(`1`)\"][x]]\n",
    "juliaCubicRoot[4]"
   ]
  },
  {
   "cell_type": "markdown",
   "metadata": {},
   "source": [
    "A slightly more convenient form would be to use `ExternalFunction`:"
   ]
  },
  {
   "cell_type": "code",
   "execution_count": null,
   "metadata": {},
   "outputs": [],
   "source": [
    "juliaCbrt=ExternalFunction[\"Julia\", \"cbrt\"];\n",
    "juliaCbrt[4]"
   ]
  },
  {
   "cell_type": "code",
   "execution_count": null,
   "metadata": {},
   "outputs": [],
   "source": [
    "Plot[juliaCbrt[x], {x, 0, 5}, MaxRecursion -> 0, PlotPoints -> 50]"
   ]
  },
  {
   "cell_type": "markdown",
   "metadata": {},
   "source": [
    "We can end a session using `DeleteObject`:"
   ]
  },
  {
   "cell_type": "code",
   "execution_count": null,
   "metadata": {},
   "outputs": [],
   "source": [
    "DeleteObject[juliaSession]"
   ]
  },
  {
   "cell_type": "markdown",
   "metadata": {},
   "source": [
    "As a last example, let's show how one can activate an environment and write the same discrete dynamical system code we showed earlier.  \n",
    "First, let's initialize a new persistent julia session and activate the environment located here:"
   ]
  },
  {
   "cell_type": "code",
   "execution_count": null,
   "metadata": {},
   "outputs": [],
   "source": [
    "Environment[\"REPO_DIR\"]"
   ]
  },
  {
   "cell_type": "code",
   "execution_count": null,
   "metadata": {},
   "outputs": [],
   "source": [
    "juliaSession = StartExternalSession[{\n",
    "\"Julia\",\n",
    "\"Prolog\"->\"using Pkg; Pkg.activate(\\\"/home/jovyan\\\"); using StaticArrays\"\n",
    "}]"
   ]
  },
  {
   "cell_type": "markdown",
   "metadata": {},
   "source": [
    "we then define our higher order iteration function:"
   ]
  },
  {
   "cell_type": "code",
   "execution_count": null,
   "metadata": {},
   "outputs": [],
   "source": [
    "dejongJulia=ExternalEvaluate[juliaSession,\"\n",
    "\n",
    "function dejong_eom_fast(u,p)\\n\n",
    "    a,b,c,d = p\\n\n",
    "    @inbounds begin\\n\n",
    "    du1 = sin(a*u[2]) - cos(b*u[1])\\n\n",
    "    du2 = sin(c*u[1]) - cos(d*u[2])\\n\n",
    "    end\\n\n",
    "    SVector{2,Float64}([du1,du2])\\n\n",
    "end\\n\n",
    "\n",
    "function solve_discrete_map_fast(f,u0,p,n)\\n\n",
    "    u = Vector{typeof(u0)}(undef,n)\\n\n",
    "    @inbounds u[1] = u0\\n\n",
    "    @inbounds for i in 1:n-1\\n\n",
    "        u[i+1] = f(u[i],p)\\n\n",
    "    end\\n\n",
    "    u\\n\n",
    "end\\n\n",
    "\n",
    "u0=SVector{2,Float64}([1.0,1.0])\\n\n",
    "function iterate_dejong(p,n)\\n\n",
    "    solve_discrete_map_fast(dejong_eom_fast,u0,p,n)\\n\n",
    "end\\n\n",
    "\n",
    "\"]"
   ]
  },
  {
   "cell_type": "markdown",
   "metadata": {},
   "source": [
    "and finally call it for visualization in the Wolfram Language:"
   ]
  },
  {
   "cell_type": "code",
   "execution_count": null,
   "metadata": {},
   "outputs": [],
   "source": [
    "resultsJL=ExternalEvaluate[juliaSession,\"iterate_dejong((-2.0,-2.0,-1.2,2.0),100000)\"];\n",
    "With[{bins=BinCounts[(Flatten/@resultsJL), {-2, 2, 0.005}, {-2, 2, 0.005}]},\n",
    "  ArrayPlot[Log[bins+1]]]"
   ]
  },
  {
   "cell_type": "markdown",
   "metadata": {},
   "source": [
    "Note this turns out to be quite slow..  \n",
    "I suspect this is due to inefficient data transfer. This is partly remedied below in the Python interface."
   ]
  },
  {
   "cell_type": "markdown",
   "metadata": {},
   "source": [
    "## Python\n",
    "Similarly, we can start a python session:"
   ]
  },
  {
   "cell_type": "code",
   "execution_count": null,
   "metadata": {
    "scrolled": true
   },
   "outputs": [],
   "source": [
    "ExternalEvaluate[{\"Python\", \"Prolog\" -> \"import numpy as np\"}, \"np.random.rand(10,3)\"]\n",
    "%//Normal"
   ]
  },
  {
   "cell_type": "markdown",
   "metadata": {},
   "source": [
    "Note dense data formats like ndarrays get returned as efficient `NumericArray` expressions."
   ]
  },
  {
   "cell_type": "code",
   "execution_count": null,
   "metadata": {},
   "outputs": [],
   "source": [
    "pySession = StartExternalSession[{\"Python\", \"Prolog\" -> \"import numpy as np; from numba import njit\"}]"
   ]
  },
  {
   "cell_type": "code",
   "execution_count": null,
   "metadata": {},
   "outputs": [],
   "source": [
    "ExternalEvaluate[pySession,\"\n",
    "@njit\\n\n",
    "def dejong_eom(state, args):\\n\n",
    "    a, b, c, d = args\\n\n",
    "    x, y = state\\n\n",
    "    return np.array([np.sin(a*y) - np.cos(b*x),np.sin(c*x) - np.cos(d*y)])\\n\n",
    "\n",
    "@njit\\n\n",
    "def calc_orbit(out, fmap, x0, args):\\n\n",
    "    out[0,:] = x0\\n\n",
    "    for i in range(len(out)-1):\\n\n",
    "        out[i+1,:] = fmap(out[i,:], args)\\n\"];\n",
    "        \n",
    "AbsoluteTiming[\n",
    "resultsPy=ExternalEvaluate[pySession,\"\n",
    "N = int(10e6)\\n\n",
    "x0 = np.array([-0.3, 0.2])\\n\n",
    "args = (-2.0, -2.0, -1.2, 2.0)\\n\n",
    "out = np.zeros((N, len(x0)))\\n\n",
    "\n",
    "calc_orbit(out, dejong_eom, x0, args)\\n\n",
    "out\"];\n",
    "]"
   ]
  },
  {
   "cell_type": "code",
   "execution_count": null,
   "metadata": {},
   "outputs": [],
   "source": [
    "With[{bins=BinCounts[resultsPy//Normal, {-2, 2, 0.005}, {-2, 2, 0.005}]},\n",
    "  ArrayPlot[Log[bins+1]]]"
   ]
  },
  {
   "cell_type": "markdown",
   "metadata": {},
   "source": [
    "### Python's wolframclient library\n",
    "In python, this interaction can be (almost) two-way using the [wolframclient package](https://reference.wolfram.com/language/WolframClientForPython/).\n",
    "\n",
    "We start a persistent python session, and start a local persistent WolframLanguange session from within that."
   ]
  },
  {
   "cell_type": "code",
   "execution_count": null,
   "metadata": {},
   "outputs": [],
   "source": [
    "pySession = StartExternalSession[\"Python\"];\n",
    "ExternalEvaluate[pySession,\"\n",
    "from wolframclient.evaluation import WolframLanguageSession\\n\n",
    "from wolframclient.language import wl, wlexpr\\n\n",
    "wlSession = WolframLanguageSession()\n",
    "\"]"
   ]
  },
  {
   "cell_type": "markdown",
   "metadata": {},
   "source": [
    "We can then evaluate WolframLanguage expressions using:"
   ]
  },
  {
   "cell_type": "code",
   "execution_count": null,
   "metadata": {},
   "outputs": [],
   "source": [
    "ExternalEvaluate[pySession,\"\n",
    "wlSession.evaluate(wlexpr('Integrate[Sin[x]^2,x]'))\n",
    "\"]"
   ]
  },
  {
   "cell_type": "markdown",
   "metadata": {},
   "source": [
    "and access user-defined functions: "
   ]
  },
  {
   "cell_type": "code",
   "execution_count": null,
   "metadata": {},
   "outputs": [],
   "source": [
    "ExternalEvaluate[pySession,\"\n",
    "from wolframclient.language import Global\\n\n",
    "wlSession.evaluate(wlexpr('function[x_, f_] := f[x]'))\n",
    "\"]\n",
    "\n",
    "ExternalEvaluate[pySession,\"\n",
    "wlSession.evaluate(Global.function(4.,wl.Sin))\n",
    "\"]\n",
    "\n",
    "ExternalEvaluate[pySession,\"\n",
    "pyObjectFunction = wlSession.function(wlexpr('function'))\\n\n",
    "pyObjectFunction(4.,wl.Sin)\n",
    "\"]"
   ]
  },
  {
   "cell_type": "markdown",
   "metadata": {},
   "source": [
    "As a final (useless) example, let's define an `ExternalFunction` mapping to the `pyObjectFunction` we defined above, which then evaluates in then Wolfram Language again:"
   ]
  },
  {
   "cell_type": "code",
   "execution_count": null,
   "metadata": {},
   "outputs": [],
   "source": [
    "functionFromPythonFromWL=ExternalFunction[pySession,\"pyObjectFunction\"];\n",
    "functionFromPythonFromWL[4.,Sin]"
   ]
  },
  {
   "cell_type": "markdown",
   "metadata": {},
   "source": [
    "Unfortunately, this still does not (yet) share live objects back and from the evaluators - but I believe this might be in the works (?)"
   ]
  },
  {
   "cell_type": "code",
   "execution_count": null,
   "metadata": {},
   "outputs": [],
   "source": []
  }
 ],
 "metadata": {
  "kernelspec": {
   "display_name": "Wolfram Language 12.2",
   "language": "Wolfram Language",
   "name": "wolframlanguage12.2"
  },
  "language_info": {
   "codemirror_mode": "mathematica",
   "file_extension": ".m",
   "mimetype": "application/vnd.wolfram.m",
   "name": "Wolfram Language",
   "pygments_lexer": "mathematica",
   "version": "12.0"
  }
 },
 "nbformat": 4,
 "nbformat_minor": 4
}
