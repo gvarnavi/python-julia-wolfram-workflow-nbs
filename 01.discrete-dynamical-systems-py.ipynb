{
 "cells": [
  {
   "cell_type": "markdown",
   "metadata": {},
   "source": [
    "# Discrete Dynamical Systems with Python!\n",
    "\n",
    "Dynamical systems are rules describing the evolution of some variable $\\vec{u}$ in time, according to some equations of motion given by a function $\\vec{f}$.  \n",
    "Here, we'll investigate _discrete dynamical systems_, often called _maps_, whereby time is discrete (in 'time-steps') and the equations of motion take the general form:\n",
    "\n",
    "$$\n",
    "\\vec{u}_{n+1} = \\vec{f}(\\vec{u}_n,p,n)\n",
    "$$\n",
    "\n",
    "We'll use `numba`'s just-in-time compiler to compare our results with julia. Specifically, we'll try and use the `nopython` mode via the `njit` decorator, to ensure we make no (costly) calls to the Python interpreter."
   ]
  },
  {
   "cell_type": "code",
   "execution_count": null,
   "metadata": {},
   "outputs": [],
   "source": [
    "import numpy as np\n",
    "from numba import njit"
   ]
  },
  {
   "cell_type": "markdown",
   "metadata": {},
   "source": [
    "### De Jong attractor\n",
    "Let's have a look at the following attractor:\n",
    "$$\n",
    "\\begin{align}\n",
    "x_{n+1} &= sin(a y_n) - cos(b x_n) \\\\\n",
    "y_{n+1} &= sin(c x_n) - cos(d y_n)\n",
    "\\end{align}\n",
    "$$\n",
    "\n",
    "we define a function to perform this map, and compile it down:"
   ]
  },
  {
   "cell_type": "code",
   "execution_count": null,
   "metadata": {},
   "outputs": [],
   "source": [
    "@njit\n",
    "def dejong_eom(state, args):\n",
    "    # unpack system parameters\n",
    "    a, b, c, d = args\n",
    "    \n",
    "    # unpack the state vector\n",
    "    x, y = state\n",
    "    \n",
    "    # map to the new state\n",
    "    return np.array([np.sin(a*y) - np.cos(b*x),\n",
    "                     np.sin(c*x) - np.cos(d*y)])"
   ]
  },
  {
   "cell_type": "markdown",
   "metadata": {},
   "source": [
    "Next we define our initial state and parameters tuple"
   ]
  },
  {
   "cell_type": "code",
   "execution_count": null,
   "metadata": {},
   "outputs": [],
   "source": [
    "state = np.array([-0.3, 0.2])\n",
    "args = (-2.0, -2.0, -1.2, 2.0)\n",
    "# evaluate dejong attractor once on the initial state\n",
    "dejong_eom(state, args)"
   ]
  },
  {
   "cell_type": "markdown",
   "metadata": {},
   "source": [
    "We then define our _higher order function_ to perfom the iteration. Note we're already using an in-place version"
   ]
  },
  {
   "cell_type": "code",
   "execution_count": null,
   "metadata": {},
   "outputs": [],
   "source": [
    "@njit\n",
    "def calc_orbit(out, fmap, x0, args):\n",
    "    ''' Iterate the function fmap through a transient of warmup iterations and return an array of the final orbit.\n",
    "        Inputs:\n",
    "            out  - output array to store final orbit\n",
    "            fmap - function of the iterative map\n",
    "            x0   - initial value\n",
    "            args - additional arguments taken by fmap\n",
    "    '''\n",
    "    out[0,:] = x0\n",
    "    for i in range(len(out)-1):\n",
    "        out[i+1,:] = fmap(out[i,:], args)"
   ]
  },
  {
   "cell_type": "markdown",
   "metadata": {},
   "source": [
    "We can then time this for 10,000,000 iterations as before:"
   ]
  },
  {
   "cell_type": "code",
   "execution_count": null,
   "metadata": {},
   "outputs": [],
   "source": [
    "%%timeit\n",
    "N = int(10e6)\n",
    "x0 = np.array([-0.3, 0.2])\n",
    "args = (-2.0, -2.0, -1.2, 2.0)\n",
    "out = np.zeros((N, len(x0)))\n",
    "\n",
    "calc_orbit(out, dejong_eom, x0, args)"
   ]
  },
  {
   "cell_type": "markdown",
   "metadata": {},
   "source": [
    "### Post-processing binning\n",
    "We post-process the points, by binning them according to visitation density."
   ]
  },
  {
   "cell_type": "code",
   "execution_count": null,
   "metadata": {},
   "outputs": [],
   "source": [
    "@njit\n",
    "def bin_data(out, z, n):\n",
    "    ''' Map a continuous coordinate to a discrete point on a grid of length n.\n",
    "        Inputs:\n",
    "            out - output array of pixels\n",
    "            z - array of coordinate values\n",
    "            n - length of grid\n",
    "    '''\n",
    "    out[:] = (z - z.min())/(z.max() - z.min())*(n-1)"
   ]
  },
  {
   "cell_type": "code",
   "execution_count": null,
   "metadata": {},
   "outputs": [],
   "source": [
    "nx, ny = 801, 801\n",
    "bins = np.empty(out.shape, dtype=np.int64)\n",
    "bin_data(bins[:,0], out[:,0], nx)\n",
    "bin_data(bins[:,1], out[:,1], ny)"
   ]
  },
  {
   "cell_type": "code",
   "execution_count": null,
   "metadata": {},
   "outputs": [],
   "source": [
    "def get_counts(bins):\n",
    "    ''' Compute number of occurrences of each binned coordinate value.\n",
    "        Inputs:\n",
    "            bins - array of visited pixels\n",
    "        Outputs:\n",
    "            counts - logarithm of counts\n",
    "    '''\n",
    "    inverse, counts = np.unique(bins[:,0] + bins[:,1]*1j, return_counts=True, return_inverse=True)[1:]\n",
    "    counts = np.log2(1 + counts[inverse])\n",
    "    return counts\n",
    "\n",
    "counts = get_counts(bins)"
   ]
  },
  {
   "cell_type": "code",
   "execution_count": null,
   "metadata": {},
   "outputs": [],
   "source": [
    "@njit\n",
    "def make_map(image, bins, counts):\n",
    "    ''' Populate image pixels with corresponding counts.\n",
    "        Inputs:\n",
    "            image - two-dimensional image array\n",
    "            bins -  array of visited pixels\n",
    "            counts - array of counts for each pixel\n",
    "    '''\n",
    "    for i in range(len(bins)):\n",
    "        image[bins[i,0], bins[i,1]] = counts[i]"
   ]
  },
  {
   "cell_type": "markdown",
   "metadata": {},
   "source": [
    "Putting it all together in a function:"
   ]
  },
  {
   "cell_type": "code",
   "execution_count": null,
   "metadata": {},
   "outputs": [],
   "source": [
    "def make_attractor(image, fmap, s0, args, N):\n",
    "    ''' Make an image colored by each point's visitation density.\n",
    "        Inputs:\n",
    "            image - output image\n",
    "            fmap - function of the iterative map\n",
    "            x0 - initial value\n",
    "            args - additional arguments taken by fmap\n",
    "            N -  total number of iterations\n",
    "    '''\n",
    "    # compute orbit\n",
    "    out = np.zeros((N, len(s0)))\n",
    "    calc_orbit(out, fmap, s0, args)\n",
    "\n",
    "    # format data to grid\n",
    "    nx, ny = image.shape\n",
    "    bins = np.zeros(out.shape, dtype=np.int64)\n",
    "    bin_data(bins[:,0], out[:,0], nx)\n",
    "    bin_data(bins[:,1], out[:,1], ny)\n",
    "\n",
    "    # populate image by visitation density\n",
    "    counts = get_counts(bins)\n",
    "    make_map(image, bins, counts)"
   ]
  },
  {
   "cell_type": "code",
   "execution_count": null,
   "metadata": {},
   "outputs": [],
   "source": [
    "nx, ny = 801, 801\n",
    "image = np.zeros((nx, ny), dtype=np.int64)\n",
    "\n",
    "N = int(10e6)\n",
    "s0 = np.array([-0.3, 0.2])\n",
    "args = (-2., -2., -1.2, 2.)\n",
    "make_attractor(image, dejong_eom, s0, args, N)"
   ]
  },
  {
   "cell_type": "markdown",
   "metadata": {},
   "source": [
    "### Visualization\n",
    "Finally, we can plot the visitation density bins of an attractor as an image"
   ]
  },
  {
   "cell_type": "code",
   "execution_count": null,
   "metadata": {},
   "outputs": [],
   "source": [
    "import matplotlib.pyplot as plt\n",
    "\n",
    "plt.rcParams['axes.linewidth'] = 1\n",
    "plt.rcParams['xtick.bottom'] = True\n",
    "plt.rcParams['ytick.left'] = True\n",
    "plt.rcParams['xtick.direction'] = 'in'\n",
    "plt.rcParams['ytick.direction'] = 'in'\n",
    "plt.rcParams['mathtext.default'] = 'regular'\n",
    "\n",
    "def plot_attractor(image, palette='inferno'):\n",
    "    ''' Plot the attractor image.\n",
    "        Inputs:\n",
    "          image - two-dimensional image array\n",
    "          palette - colormap name\n",
    "        Outputs:\n",
    "          f, ax - figure and axis objects of resulting plot\n",
    "    '''\n",
    "    # set up figure and axes\n",
    "    f = plt.figure(figsize=(9,9))\n",
    "    ax = f.add_subplot()\n",
    "    ax.get_xaxis().set_visible(False)\n",
    "    ax.get_yaxis().set_visible(False)\n",
    "\n",
    "    # create a border by padding with some zeros\n",
    "    npad = int(0.1*image.shape[0])\n",
    "    image = np.pad(image, ((npad,npad), (npad,npad)), mode='constant')\n",
    "\n",
    "    # display image\n",
    "    ax.imshow(np.flipud(image), cmap=palette)\n",
    "    return f, ax"
   ]
  },
  {
   "cell_type": "code",
   "execution_count": null,
   "metadata": {},
   "outputs": [],
   "source": [
    "f, ax = plot_attractor(image, palette='inferno');"
   ]
  },
  {
   "cell_type": "code",
   "execution_count": null,
   "metadata": {},
   "outputs": [],
   "source": []
  }
 ],
 "metadata": {
  "kernelspec": {
   "display_name": "Python 3",
   "language": "python",
   "name": "python3"
  },
  "language_info": {
   "codemirror_mode": {
    "name": "ipython",
    "version": 3
   },
   "file_extension": ".py",
   "mimetype": "text/x-python",
   "name": "python",
   "nbconvert_exporter": "python",
   "pygments_lexer": "ipython3",
   "version": "3.8.5"
  }
 },
 "nbformat": 4,
 "nbformat_minor": 4
}
