{
 "cells": [
  {
   "cell_type": "markdown",
   "metadata": {},
   "source": [
    "# Discrete Dynamical Systems with Wolfram Language!\n",
    "\n",
    "Dynamical systems are rules describing the evolution of some variable $\\vec{u}$ in time, according to some equations of motion given by a function $\\vec{f}$.  \n",
    "Here, we'll investigate _discrete dynamical systems_, often called _maps_, whereby time is discrete (in 'time-steps') and the equations of motion take the general form:\n",
    "\n",
    "$$\n",
    "\\vec{u}_{n+1} = \\vec{f}(\\vec{u}_n,p,n)\n",
    "$$\n",
    "\n",
    "We'll use the Wolfram Language's `Compile` capabilities to compare our results with julia."
   ]
  },
  {
   "cell_type": "markdown",
   "metadata": {},
   "source": [
    "### De Jong attractor\n",
    "Let's have a look at the following attractor:\n",
    "$$\n",
    "\\begin{align}\n",
    "x_{n+1} &= sin(a y_n) - cos(b x_n) \\\\\n",
    "y_{n+1} &= sin(c x_n) - cos(d y_n)\n",
    "\\end{align}\n",
    "$$\n",
    "\n",
    "we define a function to perform this map"
   ]
  },
  {
   "cell_type": "code",
   "execution_count": null,
   "metadata": {},
   "outputs": [],
   "source": [
    "naiveDeJong[{x_, y_}, {a_, b_, c_, d_}] :=\n",
    " {Sin[a y] - Cos[b x], \n",
    "  Sin[c x] - Cos[d y]}"
   ]
  },
  {
   "cell_type": "markdown",
   "metadata": {},
   "source": [
    "Next we apply our map to an initial state, using our parameters:"
   ]
  },
  {
   "cell_type": "code",
   "execution_count": null,
   "metadata": {},
   "outputs": [],
   "source": [
    "naiveDeJong[{1., 1.}, {-2, -2, -1.2, 2}]"
   ]
  },
  {
   "cell_type": "markdown",
   "metadata": {},
   "source": [
    "We can then `Nest` this iterator easily using `NestList`:"
   ]
  },
  {
   "cell_type": "code",
   "execution_count": null,
   "metadata": {},
   "outputs": [],
   "source": [
    "Graphics[Point[\n",
    "  NestList[naiveDeJong[#, {-2, -2, -1.2, 2}] &, {1., 1.}, \n",
    "   100000]]]"
   ]
  },
  {
   "cell_type": "markdown",
   "metadata": {},
   "source": [
    "## Visualization\n",
    "Post-processing binning is similarly very straightforward using the high-level `BinCounts` function:"
   ]
  },
  {
   "cell_type": "code",
   "execution_count": null,
   "metadata": {},
   "outputs": [],
   "source": [
    "With[{bins=BinCounts[\n",
    " NestList[naiveDeJong[#, {-2, -2, -1.2, 2}] &, {1., 1.}, \n",
    "  10^6], {-2, 2, 0.005}, {-2, 2, 0.005}]},\n",
    "  ArrayPlot[Log[bins+1]]]"
   ]
  },
  {
   "cell_type": "markdown",
   "metadata": {},
   "source": [
    "## Compiled Binning\n",
    "In general, the above is quite slow - and will run into memory issues since we need to store all the points before binning them.  \n",
    "Instead, we can `Compile` down to C. We might as-well bin along the way:"
   ]
  },
  {
   "cell_type": "code",
   "execution_count": null,
   "metadata": {},
   "outputs": [],
   "source": [
    "dejongCompiled = \n",
    " Compile[{{xmin, _Real}, {xmax, _Real}, {ymin, _Real}, {ymax, _Real}, \n",
    "  {delta, _Real}, {itmax, _Integer}, {a, _Real, 0}, {b, _Real, 0}, {c, _Real, 0}, {d, _Real, 0}}, \n",
    "  \n",
    "  Block[{bins, dimx, dimy, x, y, tx, ty}, \n",
    "   bins =Table[0, {Floor[(xmax - xmin)/delta] + 1}, {Floor[(ymax - ymin)/delta] + 1}];\n",
    "   {dimx, dimy} = Dimensions[bins];\n",
    "   \n",
    "   {x, y} = {0., 0.};\n",
    "   Do[{x, y} = {Sin[a y] - Cos[b x], Sin[c x] - Cos[d y]};\n",
    "    \n",
    "    tx = Floor[(x - xmin)/delta] + 1;\n",
    "    ty = Floor[(y - ymin)/delta] + 1;\n",
    "    \n",
    "    If[tx >= 1 && tx <= dimx && ty >= 1 && ty <= dimy, \n",
    "     bins[[tx, ty]] += 1], {i, 1, itmax}];\n",
    "   \n",
    "   bins], CompilationTarget -> \"C\", RuntimeOptions -> \"Speed\"];"
   ]
  },
  {
   "cell_type": "code",
   "execution_count": null,
   "metadata": {},
   "outputs": [],
   "source": [
    "RepeatedTiming[bins=dejongCompiled[-2., 2., -2., 2., 0.005, 10000000, -2.0, -2.0, -1.2, 2.0];]\n",
    "ArrayPlot[\n",
    " Log[bins + 1], Frame -> False, ImageSize -> 500, \n",
    " ColorFunction -> ColorData[{\"SunsetColors\",\"Reversed\"}]]"
   ]
  },
  {
   "cell_type": "code",
   "execution_count": null,
   "metadata": {},
   "outputs": [],
   "source": []
  }
 ],
 "metadata": {
  "kernelspec": {
   "display_name": "Wolfram Language 12.2",
   "language": "Wolfram Language",
   "name": "wolframlanguage12.2"
  },
  "language_info": {
   "codemirror_mode": "mathematica",
   "file_extension": ".m",
   "mimetype": "application/vnd.wolfram.m",
   "name": "Wolfram Language",
   "pygments_lexer": "mathematica",
   "version": "12.0"
  }
 },
 "nbformat": 4,
 "nbformat_minor": 4
}
